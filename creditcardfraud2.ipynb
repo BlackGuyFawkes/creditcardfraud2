{
 "cells": [
  {
   "cell_type": "code",
   "execution_count": 1,
   "id": "c5227660",
   "metadata": {
    "execution": {
     "iopub.execute_input": "2022-09-14T09:46:18.512327Z",
     "iopub.status.busy": "2022-09-14T09:46:18.511653Z",
     "iopub.status.idle": "2022-09-14T09:46:18.528959Z",
     "shell.execute_reply": "2022-09-14T09:46:18.527832Z"
    },
    "papermill": {
     "duration": 0.031764,
     "end_time": "2022-09-14T09:46:18.531747",
     "exception": false,
     "start_time": "2022-09-14T09:46:18.499983",
     "status": "completed"
    },
    "tags": []
   },
   "outputs": [],
   "source": [
    "#Import libraries\n",
    "import numpy as np\n",
    "import pandas as pd\n",
    "import matplotlib.pyplot as plt"
   ]
  },
  {
   "cell_type": "code",
   "execution_count": 2,
   "id": "d64dc6cb",
   "metadata": {
    "execution": {
     "iopub.execute_input": "2022-09-14T09:46:18.551298Z",
     "iopub.status.busy": "2022-09-14T09:46:18.550886Z",
     "iopub.status.idle": "2022-09-14T09:46:22.948893Z",
     "shell.execute_reply": "2022-09-14T09:46:22.947752Z"
    },
    "papermill": {
     "duration": 4.412392,
     "end_time": "2022-09-14T09:46:22.952338",
     "exception": false,
     "start_time": "2022-09-14T09:46:18.539946",
     "status": "completed"
    },
    "tags": []
   },
   "outputs": [
    {
     "data": {
      "text/html": [
       "<div>\n",
       "<style scoped>\n",
       "    .dataframe tbody tr th:only-of-type {\n",
       "        vertical-align: middle;\n",
       "    }\n",
       "\n",
       "    .dataframe tbody tr th {\n",
       "        vertical-align: top;\n",
       "    }\n",
       "\n",
       "    .dataframe thead th {\n",
       "        text-align: right;\n",
       "    }\n",
       "</style>\n",
       "<table border=\"1\" class=\"dataframe\">\n",
       "  <thead>\n",
       "    <tr style=\"text-align: right;\">\n",
       "      <th></th>\n",
       "      <th>Time</th>\n",
       "      <th>V1</th>\n",
       "      <th>V2</th>\n",
       "      <th>V3</th>\n",
       "      <th>V4</th>\n",
       "      <th>V5</th>\n",
       "      <th>V6</th>\n",
       "      <th>V7</th>\n",
       "      <th>V8</th>\n",
       "      <th>V9</th>\n",
       "      <th>...</th>\n",
       "      <th>V21</th>\n",
       "      <th>V22</th>\n",
       "      <th>V23</th>\n",
       "      <th>V24</th>\n",
       "      <th>V25</th>\n",
       "      <th>V26</th>\n",
       "      <th>V27</th>\n",
       "      <th>V28</th>\n",
       "      <th>Amount</th>\n",
       "      <th>Class</th>\n",
       "    </tr>\n",
       "  </thead>\n",
       "  <tbody>\n",
       "    <tr>\n",
       "      <th>0</th>\n",
       "      <td>0.0</td>\n",
       "      <td>-1.359807</td>\n",
       "      <td>-0.072781</td>\n",
       "      <td>2.536347</td>\n",
       "      <td>1.378155</td>\n",
       "      <td>-0.338321</td>\n",
       "      <td>0.462388</td>\n",
       "      <td>0.239599</td>\n",
       "      <td>0.098698</td>\n",
       "      <td>0.363787</td>\n",
       "      <td>...</td>\n",
       "      <td>-0.018307</td>\n",
       "      <td>0.277838</td>\n",
       "      <td>-0.110474</td>\n",
       "      <td>0.066928</td>\n",
       "      <td>0.128539</td>\n",
       "      <td>-0.189115</td>\n",
       "      <td>0.133558</td>\n",
       "      <td>-0.021053</td>\n",
       "      <td>149.62</td>\n",
       "      <td>0</td>\n",
       "    </tr>\n",
       "    <tr>\n",
       "      <th>1</th>\n",
       "      <td>0.0</td>\n",
       "      <td>1.191857</td>\n",
       "      <td>0.266151</td>\n",
       "      <td>0.166480</td>\n",
       "      <td>0.448154</td>\n",
       "      <td>0.060018</td>\n",
       "      <td>-0.082361</td>\n",
       "      <td>-0.078803</td>\n",
       "      <td>0.085102</td>\n",
       "      <td>-0.255425</td>\n",
       "      <td>...</td>\n",
       "      <td>-0.225775</td>\n",
       "      <td>-0.638672</td>\n",
       "      <td>0.101288</td>\n",
       "      <td>-0.339846</td>\n",
       "      <td>0.167170</td>\n",
       "      <td>0.125895</td>\n",
       "      <td>-0.008983</td>\n",
       "      <td>0.014724</td>\n",
       "      <td>2.69</td>\n",
       "      <td>0</td>\n",
       "    </tr>\n",
       "    <tr>\n",
       "      <th>2</th>\n",
       "      <td>1.0</td>\n",
       "      <td>-1.358354</td>\n",
       "      <td>-1.340163</td>\n",
       "      <td>1.773209</td>\n",
       "      <td>0.379780</td>\n",
       "      <td>-0.503198</td>\n",
       "      <td>1.800499</td>\n",
       "      <td>0.791461</td>\n",
       "      <td>0.247676</td>\n",
       "      <td>-1.514654</td>\n",
       "      <td>...</td>\n",
       "      <td>0.247998</td>\n",
       "      <td>0.771679</td>\n",
       "      <td>0.909412</td>\n",
       "      <td>-0.689281</td>\n",
       "      <td>-0.327642</td>\n",
       "      <td>-0.139097</td>\n",
       "      <td>-0.055353</td>\n",
       "      <td>-0.059752</td>\n",
       "      <td>378.66</td>\n",
       "      <td>0</td>\n",
       "    </tr>\n",
       "    <tr>\n",
       "      <th>3</th>\n",
       "      <td>1.0</td>\n",
       "      <td>-0.966272</td>\n",
       "      <td>-0.185226</td>\n",
       "      <td>1.792993</td>\n",
       "      <td>-0.863291</td>\n",
       "      <td>-0.010309</td>\n",
       "      <td>1.247203</td>\n",
       "      <td>0.237609</td>\n",
       "      <td>0.377436</td>\n",
       "      <td>-1.387024</td>\n",
       "      <td>...</td>\n",
       "      <td>-0.108300</td>\n",
       "      <td>0.005274</td>\n",
       "      <td>-0.190321</td>\n",
       "      <td>-1.175575</td>\n",
       "      <td>0.647376</td>\n",
       "      <td>-0.221929</td>\n",
       "      <td>0.062723</td>\n",
       "      <td>0.061458</td>\n",
       "      <td>123.50</td>\n",
       "      <td>0</td>\n",
       "    </tr>\n",
       "    <tr>\n",
       "      <th>4</th>\n",
       "      <td>2.0</td>\n",
       "      <td>-1.158233</td>\n",
       "      <td>0.877737</td>\n",
       "      <td>1.548718</td>\n",
       "      <td>0.403034</td>\n",
       "      <td>-0.407193</td>\n",
       "      <td>0.095921</td>\n",
       "      <td>0.592941</td>\n",
       "      <td>-0.270533</td>\n",
       "      <td>0.817739</td>\n",
       "      <td>...</td>\n",
       "      <td>-0.009431</td>\n",
       "      <td>0.798278</td>\n",
       "      <td>-0.137458</td>\n",
       "      <td>0.141267</td>\n",
       "      <td>-0.206010</td>\n",
       "      <td>0.502292</td>\n",
       "      <td>0.219422</td>\n",
       "      <td>0.215153</td>\n",
       "      <td>69.99</td>\n",
       "      <td>0</td>\n",
       "    </tr>\n",
       "  </tbody>\n",
       "</table>\n",
       "<p>5 rows × 31 columns</p>\n",
       "</div>"
      ],
      "text/plain": [
       "   Time        V1        V2        V3        V4        V5        V6        V7  \\\n",
       "0   0.0 -1.359807 -0.072781  2.536347  1.378155 -0.338321  0.462388  0.239599   \n",
       "1   0.0  1.191857  0.266151  0.166480  0.448154  0.060018 -0.082361 -0.078803   \n",
       "2   1.0 -1.358354 -1.340163  1.773209  0.379780 -0.503198  1.800499  0.791461   \n",
       "3   1.0 -0.966272 -0.185226  1.792993 -0.863291 -0.010309  1.247203  0.237609   \n",
       "4   2.0 -1.158233  0.877737  1.548718  0.403034 -0.407193  0.095921  0.592941   \n",
       "\n",
       "         V8        V9  ...       V21       V22       V23       V24       V25  \\\n",
       "0  0.098698  0.363787  ... -0.018307  0.277838 -0.110474  0.066928  0.128539   \n",
       "1  0.085102 -0.255425  ... -0.225775 -0.638672  0.101288 -0.339846  0.167170   \n",
       "2  0.247676 -1.514654  ...  0.247998  0.771679  0.909412 -0.689281 -0.327642   \n",
       "3  0.377436 -1.387024  ... -0.108300  0.005274 -0.190321 -1.175575  0.647376   \n",
       "4 -0.270533  0.817739  ... -0.009431  0.798278 -0.137458  0.141267 -0.206010   \n",
       "\n",
       "        V26       V27       V28  Amount  Class  \n",
       "0 -0.189115  0.133558 -0.021053  149.62      0  \n",
       "1  0.125895 -0.008983  0.014724    2.69      0  \n",
       "2 -0.139097 -0.055353 -0.059752  378.66      0  \n",
       "3 -0.221929  0.062723  0.061458  123.50      0  \n",
       "4  0.502292  0.219422  0.215153   69.99      0  \n",
       "\n",
       "[5 rows x 31 columns]"
      ]
     },
     "execution_count": 2,
     "metadata": {},
     "output_type": "execute_result"
    }
   ],
   "source": [
    "#Load and read the dataset into panda dataframe\n",
    "#Read statistics\n",
    "cc_df = pd.read_csv(\"../input/creditcardfraud/creditcard.csv\")\n",
    "cc_df.head()"
   ]
  },
  {
   "cell_type": "code",
   "execution_count": 3,
   "id": "6538eefc",
   "metadata": {
    "execution": {
     "iopub.execute_input": "2022-09-14T09:46:22.971676Z",
     "iopub.status.busy": "2022-09-14T09:46:22.971265Z",
     "iopub.status.idle": "2022-09-14T09:46:23.019997Z",
     "shell.execute_reply": "2022-09-14T09:46:23.018800Z"
    },
    "papermill": {
     "duration": 0.061611,
     "end_time": "2022-09-14T09:46:23.023024",
     "exception": false,
     "start_time": "2022-09-14T09:46:22.961413",
     "status": "completed"
    },
    "tags": []
   },
   "outputs": [
    {
     "name": "stdout",
     "output_type": "stream",
     "text": [
      "<class 'pandas.core.frame.DataFrame'>\n",
      "RangeIndex: 284807 entries, 0 to 284806\n",
      "Data columns (total 31 columns):\n",
      " #   Column  Non-Null Count   Dtype  \n",
      "---  ------  --------------   -----  \n",
      " 0   Time    284807 non-null  float64\n",
      " 1   V1      284807 non-null  float64\n",
      " 2   V2      284807 non-null  float64\n",
      " 3   V3      284807 non-null  float64\n",
      " 4   V4      284807 non-null  float64\n",
      " 5   V5      284807 non-null  float64\n",
      " 6   V6      284807 non-null  float64\n",
      " 7   V7      284807 non-null  float64\n",
      " 8   V8      284807 non-null  float64\n",
      " 9   V9      284807 non-null  float64\n",
      " 10  V10     284807 non-null  float64\n",
      " 11  V11     284807 non-null  float64\n",
      " 12  V12     284807 non-null  float64\n",
      " 13  V13     284807 non-null  float64\n",
      " 14  V14     284807 non-null  float64\n",
      " 15  V15     284807 non-null  float64\n",
      " 16  V16     284807 non-null  float64\n",
      " 17  V17     284807 non-null  float64\n",
      " 18  V18     284807 non-null  float64\n",
      " 19  V19     284807 non-null  float64\n",
      " 20  V20     284807 non-null  float64\n",
      " 21  V21     284807 non-null  float64\n",
      " 22  V22     284807 non-null  float64\n",
      " 23  V23     284807 non-null  float64\n",
      " 24  V24     284807 non-null  float64\n",
      " 25  V25     284807 non-null  float64\n",
      " 26  V26     284807 non-null  float64\n",
      " 27  V27     284807 non-null  float64\n",
      " 28  V28     284807 non-null  float64\n",
      " 29  Amount  284807 non-null  float64\n",
      " 30  Class   284807 non-null  int64  \n",
      "dtypes: float64(30), int64(1)\n",
      "memory usage: 67.4 MB\n"
     ]
    }
   ],
   "source": [
    "#Get more information about the dataset\n",
    "cc_df.info()"
   ]
  },
  {
   "cell_type": "code",
   "execution_count": 4,
   "id": "4208b6f0",
   "metadata": {
    "execution": {
     "iopub.execute_input": "2022-09-14T09:46:23.043739Z",
     "iopub.status.busy": "2022-09-14T09:46:23.042652Z",
     "iopub.status.idle": "2022-09-14T09:46:23.072011Z",
     "shell.execute_reply": "2022-09-14T09:46:23.070654Z"
    },
    "papermill": {
     "duration": 0.042699,
     "end_time": "2022-09-14T09:46:23.075273",
     "exception": false,
     "start_time": "2022-09-14T09:46:23.032574",
     "status": "completed"
    },
    "tags": []
   },
   "outputs": [
    {
     "data": {
      "text/plain": [
       "Time      0\n",
       "V1        0\n",
       "V2        0\n",
       "V3        0\n",
       "V4        0\n",
       "V5        0\n",
       "V6        0\n",
       "V7        0\n",
       "V8        0\n",
       "V9        0\n",
       "V10       0\n",
       "V11       0\n",
       "V12       0\n",
       "V13       0\n",
       "V14       0\n",
       "V15       0\n",
       "V16       0\n",
       "V17       0\n",
       "V18       0\n",
       "V19       0\n",
       "V20       0\n",
       "V21       0\n",
       "V22       0\n",
       "V23       0\n",
       "V24       0\n",
       "V25       0\n",
       "V26       0\n",
       "V27       0\n",
       "V28       0\n",
       "Amount    0\n",
       "Class     0\n",
       "dtype: int64"
      ]
     },
     "execution_count": 4,
     "metadata": {},
     "output_type": "execute_result"
    }
   ],
   "source": [
    "#Check for missing values\n",
    "cc_df.isnull().sum()"
   ]
  },
  {
   "cell_type": "code",
   "execution_count": 5,
   "id": "95d643bb",
   "metadata": {
    "execution": {
     "iopub.execute_input": "2022-09-14T09:46:23.094326Z",
     "iopub.status.busy": "2022-09-14T09:46:23.093675Z",
     "iopub.status.idle": "2022-09-14T09:46:24.174750Z",
     "shell.execute_reply": "2022-09-14T09:46:24.173553Z"
    },
    "papermill": {
     "duration": 1.093488,
     "end_time": "2022-09-14T09:46:24.177333",
     "exception": false,
     "start_time": "2022-09-14T09:46:23.083845",
     "status": "completed"
    },
    "tags": []
   },
   "outputs": [
    {
     "data": {
      "text/plain": [
       "1081"
      ]
     },
     "execution_count": 5,
     "metadata": {},
     "output_type": "execute_result"
    }
   ],
   "source": [
    "#Check for sum of duplicate values\n",
    "sum(cc_df.duplicated())"
   ]
  },
  {
   "cell_type": "code",
   "execution_count": 6,
   "id": "04ce9541",
   "metadata": {
    "execution": {
     "iopub.execute_input": "2022-09-14T09:46:24.196684Z",
     "iopub.status.busy": "2022-09-14T09:46:24.196300Z",
     "iopub.status.idle": "2022-09-14T09:46:24.257134Z",
     "shell.execute_reply": "2022-09-14T09:46:24.255977Z"
    },
    "papermill": {
     "duration": 0.073756,
     "end_time": "2022-09-14T09:46:24.259803",
     "exception": false,
     "start_time": "2022-09-14T09:46:24.186047",
     "status": "completed"
    },
    "tags": []
   },
   "outputs": [],
   "source": [
    "non_fraud=len(cc_df[cc_df.Class==0])"
   ]
  },
  {
   "cell_type": "code",
   "execution_count": 7,
   "id": "d1805abb",
   "metadata": {
    "execution": {
     "iopub.execute_input": "2022-09-14T09:46:24.279128Z",
     "iopub.status.busy": "2022-09-14T09:46:24.278239Z",
     "iopub.status.idle": "2022-09-14T09:46:24.284736Z",
     "shell.execute_reply": "2022-09-14T09:46:24.283736Z"
    },
    "papermill": {
     "duration": 0.018894,
     "end_time": "2022-09-14T09:46:24.287259",
     "exception": false,
     "start_time": "2022-09-14T09:46:24.268365",
     "status": "completed"
    },
    "tags": []
   },
   "outputs": [],
   "source": [
    "fraud=len(cc_df[cc_df.Class==1])"
   ]
  },
  {
   "cell_type": "code",
   "execution_count": 8,
   "id": "816b37c7",
   "metadata": {
    "execution": {
     "iopub.execute_input": "2022-09-14T09:46:24.307100Z",
     "iopub.status.busy": "2022-09-14T09:46:24.306370Z",
     "iopub.status.idle": "2022-09-14T09:46:24.313532Z",
     "shell.execute_reply": "2022-09-14T09:46:24.312407Z"
    },
    "papermill": {
     "duration": 0.018942,
     "end_time": "2022-09-14T09:46:24.315734",
     "exception": false,
     "start_time": "2022-09-14T09:46:24.296792",
     "status": "completed"
    },
    "tags": []
   },
   "outputs": [
    {
     "data": {
      "text/plain": [
       "0.1727485630620034"
      ]
     },
     "execution_count": 8,
     "metadata": {},
     "output_type": "execute_result"
    }
   ],
   "source": [
    "fraud_percent=(fraud/(fraud+non_fraud))*100\n",
    "fraud_percent"
   ]
  },
  {
   "cell_type": "code",
   "execution_count": 9,
   "id": "8645f611",
   "metadata": {
    "execution": {
     "iopub.execute_input": "2022-09-14T09:46:24.334646Z",
     "iopub.status.busy": "2022-09-14T09:46:24.334247Z",
     "iopub.status.idle": "2022-09-14T09:46:25.246279Z",
     "shell.execute_reply": "2022-09-14T09:46:25.245249Z"
    },
    "papermill": {
     "duration": 0.924623,
     "end_time": "2022-09-14T09:46:25.249168",
     "exception": false,
     "start_time": "2022-09-14T09:46:24.324545",
     "status": "completed"
    },
    "tags": []
   },
   "outputs": [],
   "source": [
    "from sklearn.preprocessing import StandardScaler\n",
    "scaler=StandardScaler()"
   ]
  },
  {
   "cell_type": "code",
   "execution_count": 10,
   "id": "ccfd760e",
   "metadata": {
    "execution": {
     "iopub.execute_input": "2022-09-14T09:46:25.268443Z",
     "iopub.status.busy": "2022-09-14T09:46:25.268025Z",
     "iopub.status.idle": "2022-09-14T09:46:25.280411Z",
     "shell.execute_reply": "2022-09-14T09:46:25.279543Z"
    },
    "papermill": {
     "duration": 0.024599,
     "end_time": "2022-09-14T09:46:25.282669",
     "exception": false,
     "start_time": "2022-09-14T09:46:25.258070",
     "status": "completed"
    },
    "tags": []
   },
   "outputs": [],
   "source": [
    "cc_df['Normalized_Amount']=scaler.fit_transform(cc_df['Amount'].values.reshape(-1,1))"
   ]
  },
  {
   "cell_type": "code",
   "execution_count": 11,
   "id": "f18e6bb6",
   "metadata": {
    "execution": {
     "iopub.execute_input": "2022-09-14T09:46:25.301666Z",
     "iopub.status.busy": "2022-09-14T09:46:25.301019Z",
     "iopub.status.idle": "2022-09-14T09:46:25.392361Z",
     "shell.execute_reply": "2022-09-14T09:46:25.391207Z"
    },
    "papermill": {
     "duration": 0.103824,
     "end_time": "2022-09-14T09:46:25.395057",
     "exception": false,
     "start_time": "2022-09-14T09:46:25.291233",
     "status": "completed"
    },
    "tags": []
   },
   "outputs": [],
   "source": [
    "cc_df.drop(['Time', 'Amount'], axis=1, inplace=True)"
   ]
  },
  {
   "cell_type": "code",
   "execution_count": 12,
   "id": "04a83da2",
   "metadata": {
    "execution": {
     "iopub.execute_input": "2022-09-14T09:46:25.414146Z",
     "iopub.status.busy": "2022-09-14T09:46:25.413726Z",
     "iopub.status.idle": "2022-09-14T09:46:25.442154Z",
     "shell.execute_reply": "2022-09-14T09:46:25.441274Z"
    },
    "papermill": {
     "duration": 0.040523,
     "end_time": "2022-09-14T09:46:25.444281",
     "exception": false,
     "start_time": "2022-09-14T09:46:25.403758",
     "status": "completed"
    },
    "tags": []
   },
   "outputs": [],
   "source": [
    "#for all independent features\n",
    "x=cc_df.drop(['Class'], axis=1)"
   ]
  },
  {
   "cell_type": "code",
   "execution_count": 13,
   "id": "a483ef7a",
   "metadata": {
    "execution": {
     "iopub.execute_input": "2022-09-14T09:46:25.464059Z",
     "iopub.status.busy": "2022-09-14T09:46:25.463404Z",
     "iopub.status.idle": "2022-09-14T09:46:25.467874Z",
     "shell.execute_reply": "2022-09-14T09:46:25.466760Z"
    },
    "papermill": {
     "duration": 0.016819,
     "end_time": "2022-09-14T09:46:25.470089",
     "exception": false,
     "start_time": "2022-09-14T09:46:25.453270",
     "status": "completed"
    },
    "tags": []
   },
   "outputs": [],
   "source": [
    "#for dependent feature\n",
    "y=cc_df['Class']"
   ]
  },
  {
   "cell_type": "code",
   "execution_count": 14,
   "id": "d772c2a0",
   "metadata": {
    "execution": {
     "iopub.execute_input": "2022-09-14T09:46:25.489667Z",
     "iopub.status.busy": "2022-09-14T09:46:25.489232Z",
     "iopub.status.idle": "2022-09-14T09:46:25.658044Z",
     "shell.execute_reply": "2022-09-14T09:46:25.657142Z"
    },
    "papermill": {
     "duration": 0.181109,
     "end_time": "2022-09-14T09:46:25.660493",
     "exception": false,
     "start_time": "2022-09-14T09:46:25.479384",
     "status": "completed"
    },
    "tags": []
   },
   "outputs": [],
   "source": [
    "from sklearn.model_selection import train_test_split\n",
    "\n",
    "train_x, test_x, train_y, test_y = train_test_split(x,y, test_size= 0.3, random_state= 1)"
   ]
  },
  {
   "cell_type": "code",
   "execution_count": 15,
   "id": "f3e637d7",
   "metadata": {
    "execution": {
     "iopub.execute_input": "2022-09-14T09:46:25.680304Z",
     "iopub.status.busy": "2022-09-14T09:46:25.679583Z",
     "iopub.status.idle": "2022-09-14T09:46:25.685689Z",
     "shell.execute_reply": "2022-09-14T09:46:25.684642Z"
    },
    "papermill": {
     "duration": 0.018699,
     "end_time": "2022-09-14T09:46:25.687926",
     "exception": false,
     "start_time": "2022-09-14T09:46:25.669227",
     "status": "completed"
    },
    "tags": []
   },
   "outputs": [
    {
     "data": {
      "text/plain": [
       "(199364, 29)"
      ]
     },
     "execution_count": 15,
     "metadata": {},
     "output_type": "execute_result"
    }
   ],
   "source": [
    "train_x.shape"
   ]
  },
  {
   "cell_type": "code",
   "execution_count": 16,
   "id": "e65dfba8",
   "metadata": {
    "execution": {
     "iopub.execute_input": "2022-09-14T09:46:25.706800Z",
     "iopub.status.busy": "2022-09-14T09:46:25.706393Z",
     "iopub.status.idle": "2022-09-14T09:46:25.713332Z",
     "shell.execute_reply": "2022-09-14T09:46:25.712252Z"
    },
    "papermill": {
     "duration": 0.019168,
     "end_time": "2022-09-14T09:46:25.715763",
     "exception": false,
     "start_time": "2022-09-14T09:46:25.696595",
     "status": "completed"
    },
    "tags": []
   },
   "outputs": [
    {
     "data": {
      "text/plain": [
       "(85443, 29)"
      ]
     },
     "execution_count": 16,
     "metadata": {},
     "output_type": "execute_result"
    }
   ],
   "source": [
    "test_x.shape"
   ]
  },
  {
   "cell_type": "code",
   "execution_count": 17,
   "id": "02ddfb41",
   "metadata": {
    "execution": {
     "iopub.execute_input": "2022-09-14T09:46:25.735636Z",
     "iopub.status.busy": "2022-09-14T09:46:25.734944Z",
     "iopub.status.idle": "2022-09-14T09:46:25.941152Z",
     "shell.execute_reply": "2022-09-14T09:46:25.939962Z"
    },
    "papermill": {
     "duration": 0.219304,
     "end_time": "2022-09-14T09:46:25.943948",
     "exception": false,
     "start_time": "2022-09-14T09:46:25.724644",
     "status": "completed"
    },
    "tags": []
   },
   "outputs": [],
   "source": [
    "#create the model\n",
    "from sklearn.ensemble import RandomForestClassifier\n",
    "\n",
    "rf1=RandomForestClassifier(n_estimators= 100)"
   ]
  },
  {
   "cell_type": "code",
   "execution_count": 18,
   "id": "b1e0b9ec",
   "metadata": {
    "execution": {
     "iopub.execute_input": "2022-09-14T09:46:25.964068Z",
     "iopub.status.busy": "2022-09-14T09:46:25.962955Z",
     "iopub.status.idle": "2022-09-14T09:49:54.596814Z",
     "shell.execute_reply": "2022-09-14T09:49:54.595553Z"
    },
    "papermill": {
     "duration": 208.65526,
     "end_time": "2022-09-14T09:49:54.608187",
     "exception": false,
     "start_time": "2022-09-14T09:46:25.952927",
     "status": "completed"
    },
    "tags": []
   },
   "outputs": [
    {
     "data": {
      "text/plain": [
       "RandomForestClassifier()"
      ]
     },
     "execution_count": 18,
     "metadata": {},
     "output_type": "execute_result"
    }
   ],
   "source": [
    "rf1.fit(train_x,train_y)"
   ]
  },
  {
   "cell_type": "code",
   "execution_count": 19,
   "id": "46e4a042",
   "metadata": {
    "execution": {
     "iopub.execute_input": "2022-09-14T09:49:54.628701Z",
     "iopub.status.busy": "2022-09-14T09:49:54.627910Z",
     "iopub.status.idle": "2022-09-14T09:49:55.563041Z",
     "shell.execute_reply": "2022-09-14T09:49:55.561893Z"
    },
    "papermill": {
     "duration": 0.948341,
     "end_time": "2022-09-14T09:49:55.565787",
     "exception": false,
     "start_time": "2022-09-14T09:49:54.617446",
     "status": "completed"
    },
    "tags": []
   },
   "outputs": [],
   "source": [
    "prediction_rf=rf1.predict(test_x)"
   ]
  },
  {
   "cell_type": "code",
   "execution_count": 20,
   "id": "1a52f871",
   "metadata": {
    "execution": {
     "iopub.execute_input": "2022-09-14T09:49:55.585516Z",
     "iopub.status.busy": "2022-09-14T09:49:55.585063Z",
     "iopub.status.idle": "2022-09-14T09:49:56.522190Z",
     "shell.execute_reply": "2022-09-14T09:49:56.521040Z"
    },
    "papermill": {
     "duration": 0.950299,
     "end_time": "2022-09-14T09:49:56.525002",
     "exception": false,
     "start_time": "2022-09-14T09:49:55.574703",
     "status": "completed"
    },
    "tags": []
   },
   "outputs": [],
   "source": [
    "rf_score=rf1.score(test_x,test_y)*100"
   ]
  },
  {
   "cell_type": "code",
   "execution_count": 21,
   "id": "cf891cd4",
   "metadata": {
    "execution": {
     "iopub.execute_input": "2022-09-14T09:49:56.544943Z",
     "iopub.status.busy": "2022-09-14T09:49:56.544092Z",
     "iopub.status.idle": "2022-09-14T09:49:56.551479Z",
     "shell.execute_reply": "2022-09-14T09:49:56.550390Z"
    },
    "papermill": {
     "duration": 0.019718,
     "end_time": "2022-09-14T09:49:56.553731",
     "exception": false,
     "start_time": "2022-09-14T09:49:56.534013",
     "status": "completed"
    },
    "tags": []
   },
   "outputs": [
    {
     "data": {
      "text/plain": [
       "99.94850368081644"
      ]
     },
     "execution_count": 21,
     "metadata": {},
     "output_type": "execute_result"
    }
   ],
   "source": [
    "rf_score"
   ]
  },
  {
   "cell_type": "code",
   "execution_count": 22,
   "id": "3e777d49",
   "metadata": {
    "execution": {
     "iopub.execute_input": "2022-09-14T09:49:56.573293Z",
     "iopub.status.busy": "2022-09-14T09:49:56.572899Z",
     "iopub.status.idle": "2022-09-14T09:49:56.577433Z",
     "shell.execute_reply": "2022-09-14T09:49:56.576602Z"
    },
    "papermill": {
     "duration": 0.016843,
     "end_time": "2022-09-14T09:49:56.579332",
     "exception": false,
     "start_time": "2022-09-14T09:49:56.562489",
     "status": "completed"
    },
    "tags": []
   },
   "outputs": [],
   "source": [
    "# Importing class and libraries\n",
    "\n",
    "from sklearn.svm import SVC\n",
    "model = SVC()"
   ]
  },
  {
   "cell_type": "code",
   "execution_count": 23,
   "id": "5c7ce83a",
   "metadata": {
    "execution": {
     "iopub.execute_input": "2022-09-14T09:49:56.599061Z",
     "iopub.status.busy": "2022-09-14T09:49:56.598686Z",
     "iopub.status.idle": "2022-09-14T09:54:03.643417Z",
     "shell.execute_reply": "2022-09-14T09:54:03.642266Z"
    },
    "papermill": {
     "duration": 247.066067,
     "end_time": "2022-09-14T09:54:03.654293",
     "exception": false,
     "start_time": "2022-09-14T09:49:56.588226",
     "status": "completed"
    },
    "tags": []
   },
   "outputs": [
    {
     "data": {
      "text/plain": [
       "SVC()"
      ]
     },
     "execution_count": 23,
     "metadata": {},
     "output_type": "execute_result"
    }
   ],
   "source": [
    "# Training the Model\n",
    "\n",
    "model.fit(train_x,train_y)"
   ]
  },
  {
   "cell_type": "code",
   "execution_count": 24,
   "id": "dc2d3193",
   "metadata": {
    "execution": {
     "iopub.execute_input": "2022-09-14T09:54:03.674658Z",
     "iopub.status.busy": "2022-09-14T09:54:03.673872Z",
     "iopub.status.idle": "2022-09-14T09:54:48.054565Z",
     "shell.execute_reply": "2022-09-14T09:54:48.053267Z"
    },
    "papermill": {
     "duration": 44.40216,
     "end_time": "2022-09-14T09:54:48.065434",
     "exception": false,
     "start_time": "2022-09-14T09:54:03.663274",
     "status": "completed"
    },
    "tags": []
   },
   "outputs": [
    {
     "data": {
      "text/plain": [
       "0.9996589153508156"
      ]
     },
     "execution_count": 24,
     "metadata": {},
     "output_type": "execute_result"
    }
   ],
   "source": [
    "# Accuracy of the model in training\n",
    "\n",
    "model.score(train_x,train_y)"
   ]
  },
  {
   "cell_type": "code",
   "execution_count": 25,
   "id": "19ee0142",
   "metadata": {
    "execution": {
     "iopub.execute_input": "2022-09-14T09:54:48.085397Z",
     "iopub.status.busy": "2022-09-14T09:54:48.084740Z",
     "iopub.status.idle": "2022-09-14T09:55:32.505664Z",
     "shell.execute_reply": "2022-09-14T09:55:32.504764Z"
    },
    "papermill": {
     "duration": 44.442554,
     "end_time": "2022-09-14T09:55:32.516928",
     "exception": false,
     "start_time": "2022-09-14T09:54:48.074374",
     "status": "completed"
    },
    "tags": []
   },
   "outputs": [
    {
     "data": {
      "text/plain": [
       "0.9996589153508156"
      ]
     },
     "execution_count": 25,
     "metadata": {},
     "output_type": "execute_result"
    }
   ],
   "source": [
    "# Accuracy of the model in Testing\n",
    "\n",
    "model.score(train_x,train_y)"
   ]
  },
  {
   "cell_type": "code",
   "execution_count": 26,
   "id": "11aeef4d",
   "metadata": {
    "execution": {
     "iopub.execute_input": "2022-09-14T09:55:32.539182Z",
     "iopub.status.busy": "2022-09-14T09:55:32.538016Z",
     "iopub.status.idle": "2022-09-14T09:55:32.543425Z",
     "shell.execute_reply": "2022-09-14T09:55:32.542405Z"
    },
    "papermill": {
     "duration": 0.018983,
     "end_time": "2022-09-14T09:55:32.545789",
     "exception": false,
     "start_time": "2022-09-14T09:55:32.526806",
     "status": "completed"
    },
    "tags": []
   },
   "outputs": [],
   "source": [
    "# Importing Libraries and Classes\n",
    "\n",
    "from sklearn import metrics"
   ]
  },
  {
   "cell_type": "code",
   "execution_count": 27,
   "id": "9d420725",
   "metadata": {
    "execution": {
     "iopub.execute_input": "2022-09-14T09:55:32.566529Z",
     "iopub.status.busy": "2022-09-14T09:55:32.566103Z",
     "iopub.status.idle": "2022-09-14T09:55:51.687492Z",
     "shell.execute_reply": "2022-09-14T09:55:51.686020Z"
    },
    "papermill": {
     "duration": 19.134872,
     "end_time": "2022-09-14T09:55:51.690302",
     "exception": false,
     "start_time": "2022-09-14T09:55:32.555430",
     "status": "completed"
    },
    "tags": []
   },
   "outputs": [],
   "source": [
    "# Y contains all the outputs and X contains all the inputs. We will test on the machine if it gives to expected Output for the \n",
    "# corresponding Inputs.\n",
    "\n",
    "expected = test_y\n",
    "predicted = model.predict(test_x)"
   ]
  },
  {
   "cell_type": "code",
   "execution_count": 28,
   "id": "9eb3b56a",
   "metadata": {
    "execution": {
     "iopub.execute_input": "2022-09-14T09:55:51.713370Z",
     "iopub.status.busy": "2022-09-14T09:55:51.712946Z",
     "iopub.status.idle": "2022-09-14T09:55:51.848730Z",
     "shell.execute_reply": "2022-09-14T09:55:51.847276Z"
    },
    "papermill": {
     "duration": 0.150836,
     "end_time": "2022-09-14T09:55:51.852012",
     "exception": false,
     "start_time": "2022-09-14T09:55:51.701176",
     "status": "completed"
    },
    "tags": []
   },
   "outputs": [
    {
     "name": "stdout",
     "output_type": "stream",
     "text": [
      "              precision    recall  f1-score   support\n",
      "\n",
      "           0       1.00      1.00      1.00     85308\n",
      "           1       0.96      0.65      0.78       135\n",
      "\n",
      "    accuracy                           1.00     85443\n",
      "   macro avg       0.98      0.83      0.89     85443\n",
      "weighted avg       1.00      1.00      1.00     85443\n",
      "\n"
     ]
    }
   ],
   "source": [
    "# Obtaining Report\n",
    "\n",
    "print(metrics.classification_report(expected, predicted))"
   ]
  },
  {
   "cell_type": "code",
   "execution_count": 29,
   "id": "bcbfbf16",
   "metadata": {
    "execution": {
     "iopub.execute_input": "2022-09-14T09:55:51.873954Z",
     "iopub.status.busy": "2022-09-14T09:55:51.873154Z",
     "iopub.status.idle": "2022-09-14T09:55:51.896027Z",
     "shell.execute_reply": "2022-09-14T09:55:51.894600Z"
    },
    "papermill": {
     "duration": 0.037047,
     "end_time": "2022-09-14T09:55:51.899231",
     "exception": false,
     "start_time": "2022-09-14T09:55:51.862184",
     "status": "completed"
    },
    "tags": []
   },
   "outputs": [
    {
     "name": "stdout",
     "output_type": "stream",
     "text": [
      "[[85304     4]\n",
      " [   47    88]]\n"
     ]
    }
   ],
   "source": [
    "# Output in the form of count\n",
    "\n",
    "print(metrics.confusion_matrix(expected, predicted))"
   ]
  },
  {
   "cell_type": "code",
   "execution_count": null,
   "id": "e1b0876d",
   "metadata": {
    "papermill": {
     "duration": 0.009002,
     "end_time": "2022-09-14T09:55:51.917913",
     "exception": false,
     "start_time": "2022-09-14T09:55:51.908911",
     "status": "completed"
    },
    "tags": []
   },
   "outputs": [],
   "source": []
  },
  {
   "cell_type": "code",
   "execution_count": null,
   "id": "687cba62",
   "metadata": {
    "papermill": {
     "duration": 0.009129,
     "end_time": "2022-09-14T09:55:51.936852",
     "exception": false,
     "start_time": "2022-09-14T09:55:51.927723",
     "status": "completed"
    },
    "tags": []
   },
   "outputs": [],
   "source": []
  },
  {
   "cell_type": "code",
   "execution_count": null,
   "id": "2b4edfb2",
   "metadata": {
    "papermill": {
     "duration": 0.009539,
     "end_time": "2022-09-14T09:55:51.956037",
     "exception": false,
     "start_time": "2022-09-14T09:55:51.946498",
     "status": "completed"
    },
    "tags": []
   },
   "outputs": [],
   "source": []
  },
  {
   "cell_type": "code",
   "execution_count": null,
   "id": "2b9ef406",
   "metadata": {
    "papermill": {
     "duration": 0.009608,
     "end_time": "2022-09-14T09:55:51.976050",
     "exception": false,
     "start_time": "2022-09-14T09:55:51.966442",
     "status": "completed"
    },
    "tags": []
   },
   "outputs": [],
   "source": []
  }
 ],
 "metadata": {
  "kernelspec": {
   "display_name": "Python 3",
   "language": "python",
   "name": "python3"
  },
  "language_info": {
   "codemirror_mode": {
    "name": "ipython",
    "version": 3
   },
   "file_extension": ".py",
   "mimetype": "text/x-python",
   "name": "python",
   "nbconvert_exporter": "python",
   "pygments_lexer": "ipython3",
   "version": "3.7.12"
  },
  "papermill": {
   "default_parameters": {},
   "duration": 584.446349,
   "end_time": "2022-09-14T09:55:52.709717",
   "environment_variables": {},
   "exception": null,
   "input_path": "__notebook__.ipynb",
   "output_path": "__notebook__.ipynb",
   "parameters": {},
   "start_time": "2022-09-14T09:46:08.263368",
   "version": "2.3.4"
  }
 },
 "nbformat": 4,
 "nbformat_minor": 5
}
