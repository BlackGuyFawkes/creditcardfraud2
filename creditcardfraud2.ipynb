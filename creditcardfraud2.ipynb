{
 "cells": [
  {
   "cell_type": "markdown",
   "id": "ccc9b8ba",
   "metadata": {
    "papermill": {
     "duration": 0.01084,
     "end_time": "2022-09-16T01:44:51.417414",
     "exception": false,
     "start_time": "2022-09-16T01:44:51.406574",
     "status": "completed"
    },
    "tags": []
   },
   "source": [
    "# Part 2- Credit Card Fraud Predictive Analysis\n",
    "## By Maduako Akachi"
   ]
  },
  {
   "cell_type": "code",
   "execution_count": 1,
   "id": "9d6c7f9e",
   "metadata": {
    "execution": {
     "iopub.execute_input": "2022-09-16T01:44:51.434847Z",
     "iopub.status.busy": "2022-09-16T01:44:51.434300Z",
     "iopub.status.idle": "2022-09-16T01:44:51.446517Z",
     "shell.execute_reply": "2022-09-16T01:44:51.445680Z"
    },
    "papermill": {
     "duration": 0.023753,
     "end_time": "2022-09-16T01:44:51.449022",
     "exception": false,
     "start_time": "2022-09-16T01:44:51.425269",
     "status": "completed"
    },
    "tags": []
   },
   "outputs": [],
   "source": [
    "#Import libraries\n",
    "import numpy as np\n",
    "import pandas as pd\n",
    "import matplotlib.pyplot as plt"
   ]
  },
  {
   "cell_type": "code",
   "execution_count": 2,
   "id": "bad1abc8",
   "metadata": {
    "execution": {
     "iopub.execute_input": "2022-09-16T01:44:51.465881Z",
     "iopub.status.busy": "2022-09-16T01:44:51.465227Z",
     "iopub.status.idle": "2022-09-16T01:44:56.101681Z",
     "shell.execute_reply": "2022-09-16T01:44:56.100450Z"
    },
    "papermill": {
     "duration": 4.648254,
     "end_time": "2022-09-16T01:44:56.104603",
     "exception": false,
     "start_time": "2022-09-16T01:44:51.456349",
     "status": "completed"
    },
    "tags": []
   },
   "outputs": [
    {
     "data": {
      "text/html": [
       "<div>\n",
       "<style scoped>\n",
       "    .dataframe tbody tr th:only-of-type {\n",
       "        vertical-align: middle;\n",
       "    }\n",
       "\n",
       "    .dataframe tbody tr th {\n",
       "        vertical-align: top;\n",
       "    }\n",
       "\n",
       "    .dataframe thead th {\n",
       "        text-align: right;\n",
       "    }\n",
       "</style>\n",
       "<table border=\"1\" class=\"dataframe\">\n",
       "  <thead>\n",
       "    <tr style=\"text-align: right;\">\n",
       "      <th></th>\n",
       "      <th>Time</th>\n",
       "      <th>V1</th>\n",
       "      <th>V2</th>\n",
       "      <th>V3</th>\n",
       "      <th>V4</th>\n",
       "      <th>V5</th>\n",
       "      <th>V6</th>\n",
       "      <th>V7</th>\n",
       "      <th>V8</th>\n",
       "      <th>V9</th>\n",
       "      <th>...</th>\n",
       "      <th>V21</th>\n",
       "      <th>V22</th>\n",
       "      <th>V23</th>\n",
       "      <th>V24</th>\n",
       "      <th>V25</th>\n",
       "      <th>V26</th>\n",
       "      <th>V27</th>\n",
       "      <th>V28</th>\n",
       "      <th>Amount</th>\n",
       "      <th>Class</th>\n",
       "    </tr>\n",
       "  </thead>\n",
       "  <tbody>\n",
       "    <tr>\n",
       "      <th>0</th>\n",
       "      <td>0.0</td>\n",
       "      <td>-1.359807</td>\n",
       "      <td>-0.072781</td>\n",
       "      <td>2.536347</td>\n",
       "      <td>1.378155</td>\n",
       "      <td>-0.338321</td>\n",
       "      <td>0.462388</td>\n",
       "      <td>0.239599</td>\n",
       "      <td>0.098698</td>\n",
       "      <td>0.363787</td>\n",
       "      <td>...</td>\n",
       "      <td>-0.018307</td>\n",
       "      <td>0.277838</td>\n",
       "      <td>-0.110474</td>\n",
       "      <td>0.066928</td>\n",
       "      <td>0.128539</td>\n",
       "      <td>-0.189115</td>\n",
       "      <td>0.133558</td>\n",
       "      <td>-0.021053</td>\n",
       "      <td>149.62</td>\n",
       "      <td>0</td>\n",
       "    </tr>\n",
       "    <tr>\n",
       "      <th>1</th>\n",
       "      <td>0.0</td>\n",
       "      <td>1.191857</td>\n",
       "      <td>0.266151</td>\n",
       "      <td>0.166480</td>\n",
       "      <td>0.448154</td>\n",
       "      <td>0.060018</td>\n",
       "      <td>-0.082361</td>\n",
       "      <td>-0.078803</td>\n",
       "      <td>0.085102</td>\n",
       "      <td>-0.255425</td>\n",
       "      <td>...</td>\n",
       "      <td>-0.225775</td>\n",
       "      <td>-0.638672</td>\n",
       "      <td>0.101288</td>\n",
       "      <td>-0.339846</td>\n",
       "      <td>0.167170</td>\n",
       "      <td>0.125895</td>\n",
       "      <td>-0.008983</td>\n",
       "      <td>0.014724</td>\n",
       "      <td>2.69</td>\n",
       "      <td>0</td>\n",
       "    </tr>\n",
       "    <tr>\n",
       "      <th>2</th>\n",
       "      <td>1.0</td>\n",
       "      <td>-1.358354</td>\n",
       "      <td>-1.340163</td>\n",
       "      <td>1.773209</td>\n",
       "      <td>0.379780</td>\n",
       "      <td>-0.503198</td>\n",
       "      <td>1.800499</td>\n",
       "      <td>0.791461</td>\n",
       "      <td>0.247676</td>\n",
       "      <td>-1.514654</td>\n",
       "      <td>...</td>\n",
       "      <td>0.247998</td>\n",
       "      <td>0.771679</td>\n",
       "      <td>0.909412</td>\n",
       "      <td>-0.689281</td>\n",
       "      <td>-0.327642</td>\n",
       "      <td>-0.139097</td>\n",
       "      <td>-0.055353</td>\n",
       "      <td>-0.059752</td>\n",
       "      <td>378.66</td>\n",
       "      <td>0</td>\n",
       "    </tr>\n",
       "    <tr>\n",
       "      <th>3</th>\n",
       "      <td>1.0</td>\n",
       "      <td>-0.966272</td>\n",
       "      <td>-0.185226</td>\n",
       "      <td>1.792993</td>\n",
       "      <td>-0.863291</td>\n",
       "      <td>-0.010309</td>\n",
       "      <td>1.247203</td>\n",
       "      <td>0.237609</td>\n",
       "      <td>0.377436</td>\n",
       "      <td>-1.387024</td>\n",
       "      <td>...</td>\n",
       "      <td>-0.108300</td>\n",
       "      <td>0.005274</td>\n",
       "      <td>-0.190321</td>\n",
       "      <td>-1.175575</td>\n",
       "      <td>0.647376</td>\n",
       "      <td>-0.221929</td>\n",
       "      <td>0.062723</td>\n",
       "      <td>0.061458</td>\n",
       "      <td>123.50</td>\n",
       "      <td>0</td>\n",
       "    </tr>\n",
       "    <tr>\n",
       "      <th>4</th>\n",
       "      <td>2.0</td>\n",
       "      <td>-1.158233</td>\n",
       "      <td>0.877737</td>\n",
       "      <td>1.548718</td>\n",
       "      <td>0.403034</td>\n",
       "      <td>-0.407193</td>\n",
       "      <td>0.095921</td>\n",
       "      <td>0.592941</td>\n",
       "      <td>-0.270533</td>\n",
       "      <td>0.817739</td>\n",
       "      <td>...</td>\n",
       "      <td>-0.009431</td>\n",
       "      <td>0.798278</td>\n",
       "      <td>-0.137458</td>\n",
       "      <td>0.141267</td>\n",
       "      <td>-0.206010</td>\n",
       "      <td>0.502292</td>\n",
       "      <td>0.219422</td>\n",
       "      <td>0.215153</td>\n",
       "      <td>69.99</td>\n",
       "      <td>0</td>\n",
       "    </tr>\n",
       "  </tbody>\n",
       "</table>\n",
       "<p>5 rows × 31 columns</p>\n",
       "</div>"
      ],
      "text/plain": [
       "   Time        V1        V2        V3        V4        V5        V6        V7  \\\n",
       "0   0.0 -1.359807 -0.072781  2.536347  1.378155 -0.338321  0.462388  0.239599   \n",
       "1   0.0  1.191857  0.266151  0.166480  0.448154  0.060018 -0.082361 -0.078803   \n",
       "2   1.0 -1.358354 -1.340163  1.773209  0.379780 -0.503198  1.800499  0.791461   \n",
       "3   1.0 -0.966272 -0.185226  1.792993 -0.863291 -0.010309  1.247203  0.237609   \n",
       "4   2.0 -1.158233  0.877737  1.548718  0.403034 -0.407193  0.095921  0.592941   \n",
       "\n",
       "         V8        V9  ...       V21       V22       V23       V24       V25  \\\n",
       "0  0.098698  0.363787  ... -0.018307  0.277838 -0.110474  0.066928  0.128539   \n",
       "1  0.085102 -0.255425  ... -0.225775 -0.638672  0.101288 -0.339846  0.167170   \n",
       "2  0.247676 -1.514654  ...  0.247998  0.771679  0.909412 -0.689281 -0.327642   \n",
       "3  0.377436 -1.387024  ... -0.108300  0.005274 -0.190321 -1.175575  0.647376   \n",
       "4 -0.270533  0.817739  ... -0.009431  0.798278 -0.137458  0.141267 -0.206010   \n",
       "\n",
       "        V26       V27       V28  Amount  Class  \n",
       "0 -0.189115  0.133558 -0.021053  149.62      0  \n",
       "1  0.125895 -0.008983  0.014724    2.69      0  \n",
       "2 -0.139097 -0.055353 -0.059752  378.66      0  \n",
       "3 -0.221929  0.062723  0.061458  123.50      0  \n",
       "4  0.502292  0.219422  0.215153   69.99      0  \n",
       "\n",
       "[5 rows x 31 columns]"
      ]
     },
     "execution_count": 2,
     "metadata": {},
     "output_type": "execute_result"
    }
   ],
   "source": [
    "#Load and read the dataset into panda dataframe\n",
    "#Read statistics\n",
    "cc_df = pd.read_csv(\"../input/creditcardfraud/creditcard.csv\")\n",
    "cc_df.head()"
   ]
  },
  {
   "cell_type": "code",
   "execution_count": 3,
   "id": "e497b1d8",
   "metadata": {
    "execution": {
     "iopub.execute_input": "2022-09-16T01:44:56.121881Z",
     "iopub.status.busy": "2022-09-16T01:44:56.121469Z",
     "iopub.status.idle": "2022-09-16T01:44:56.170446Z",
     "shell.execute_reply": "2022-09-16T01:44:56.169137Z"
    },
    "papermill": {
     "duration": 0.060405,
     "end_time": "2022-09-16T01:44:56.172915",
     "exception": false,
     "start_time": "2022-09-16T01:44:56.112510",
     "status": "completed"
    },
    "tags": []
   },
   "outputs": [
    {
     "name": "stdout",
     "output_type": "stream",
     "text": [
      "<class 'pandas.core.frame.DataFrame'>\n",
      "RangeIndex: 284807 entries, 0 to 284806\n",
      "Data columns (total 31 columns):\n",
      " #   Column  Non-Null Count   Dtype  \n",
      "---  ------  --------------   -----  \n",
      " 0   Time    284807 non-null  float64\n",
      " 1   V1      284807 non-null  float64\n",
      " 2   V2      284807 non-null  float64\n",
      " 3   V3      284807 non-null  float64\n",
      " 4   V4      284807 non-null  float64\n",
      " 5   V5      284807 non-null  float64\n",
      " 6   V6      284807 non-null  float64\n",
      " 7   V7      284807 non-null  float64\n",
      " 8   V8      284807 non-null  float64\n",
      " 9   V9      284807 non-null  float64\n",
      " 10  V10     284807 non-null  float64\n",
      " 11  V11     284807 non-null  float64\n",
      " 12  V12     284807 non-null  float64\n",
      " 13  V13     284807 non-null  float64\n",
      " 14  V14     284807 non-null  float64\n",
      " 15  V15     284807 non-null  float64\n",
      " 16  V16     284807 non-null  float64\n",
      " 17  V17     284807 non-null  float64\n",
      " 18  V18     284807 non-null  float64\n",
      " 19  V19     284807 non-null  float64\n",
      " 20  V20     284807 non-null  float64\n",
      " 21  V21     284807 non-null  float64\n",
      " 22  V22     284807 non-null  float64\n",
      " 23  V23     284807 non-null  float64\n",
      " 24  V24     284807 non-null  float64\n",
      " 25  V25     284807 non-null  float64\n",
      " 26  V26     284807 non-null  float64\n",
      " 27  V27     284807 non-null  float64\n",
      " 28  V28     284807 non-null  float64\n",
      " 29  Amount  284807 non-null  float64\n",
      " 30  Class   284807 non-null  int64  \n",
      "dtypes: float64(30), int64(1)\n",
      "memory usage: 67.4 MB\n"
     ]
    }
   ],
   "source": [
    "#Get more information about the dataset\n",
    "cc_df.info()"
   ]
  },
  {
   "cell_type": "code",
   "execution_count": 4,
   "id": "b9d077d5",
   "metadata": {
    "execution": {
     "iopub.execute_input": "2022-09-16T01:44:56.190441Z",
     "iopub.status.busy": "2022-09-16T01:44:56.189990Z",
     "iopub.status.idle": "2022-09-16T01:44:56.218717Z",
     "shell.execute_reply": "2022-09-16T01:44:56.217472Z"
    },
    "papermill": {
     "duration": 0.040578,
     "end_time": "2022-09-16T01:44:56.221227",
     "exception": false,
     "start_time": "2022-09-16T01:44:56.180649",
     "status": "completed"
    },
    "tags": []
   },
   "outputs": [
    {
     "data": {
      "text/plain": [
       "Time      0\n",
       "V1        0\n",
       "V2        0\n",
       "V3        0\n",
       "V4        0\n",
       "V5        0\n",
       "V6        0\n",
       "V7        0\n",
       "V8        0\n",
       "V9        0\n",
       "V10       0\n",
       "V11       0\n",
       "V12       0\n",
       "V13       0\n",
       "V14       0\n",
       "V15       0\n",
       "V16       0\n",
       "V17       0\n",
       "V18       0\n",
       "V19       0\n",
       "V20       0\n",
       "V21       0\n",
       "V22       0\n",
       "V23       0\n",
       "V24       0\n",
       "V25       0\n",
       "V26       0\n",
       "V27       0\n",
       "V28       0\n",
       "Amount    0\n",
       "Class     0\n",
       "dtype: int64"
      ]
     },
     "execution_count": 4,
     "metadata": {},
     "output_type": "execute_result"
    }
   ],
   "source": [
    "#Check for missing values\n",
    "cc_df.isnull().sum()"
   ]
  },
  {
   "cell_type": "code",
   "execution_count": 5,
   "id": "5974a955",
   "metadata": {
    "execution": {
     "iopub.execute_input": "2022-09-16T01:44:56.238855Z",
     "iopub.status.busy": "2022-09-16T01:44:56.238420Z",
     "iopub.status.idle": "2022-09-16T01:44:57.250786Z",
     "shell.execute_reply": "2022-09-16T01:44:57.249804Z"
    },
    "papermill": {
     "duration": 1.023864,
     "end_time": "2022-09-16T01:44:57.253031",
     "exception": false,
     "start_time": "2022-09-16T01:44:56.229167",
     "status": "completed"
    },
    "tags": []
   },
   "outputs": [
    {
     "data": {
      "text/plain": [
       "1081"
      ]
     },
     "execution_count": 5,
     "metadata": {},
     "output_type": "execute_result"
    }
   ],
   "source": [
    "#Check for sum of duplicate values\n",
    "sum(cc_df.duplicated())"
   ]
  },
  {
   "cell_type": "code",
   "execution_count": 6,
   "id": "082337c9",
   "metadata": {
    "execution": {
     "iopub.execute_input": "2022-09-16T01:44:57.270679Z",
     "iopub.status.busy": "2022-09-16T01:44:57.270270Z",
     "iopub.status.idle": "2022-09-16T01:44:57.330267Z",
     "shell.execute_reply": "2022-09-16T01:44:57.329036Z"
    },
    "papermill": {
     "duration": 0.071936,
     "end_time": "2022-09-16T01:44:57.333134",
     "exception": false,
     "start_time": "2022-09-16T01:44:57.261198",
     "status": "completed"
    },
    "tags": []
   },
   "outputs": [],
   "source": [
    "non_fraud=len(cc_df[cc_df.Class==0])"
   ]
  },
  {
   "cell_type": "code",
   "execution_count": 7,
   "id": "c23c9324",
   "metadata": {
    "execution": {
     "iopub.execute_input": "2022-09-16T01:44:57.351111Z",
     "iopub.status.busy": "2022-09-16T01:44:57.350716Z",
     "iopub.status.idle": "2022-09-16T01:44:57.357682Z",
     "shell.execute_reply": "2022-09-16T01:44:57.356480Z"
    },
    "papermill": {
     "duration": 0.018884,
     "end_time": "2022-09-16T01:44:57.360238",
     "exception": false,
     "start_time": "2022-09-16T01:44:57.341354",
     "status": "completed"
    },
    "tags": []
   },
   "outputs": [],
   "source": [
    "fraud=len(cc_df[cc_df.Class==1])"
   ]
  },
  {
   "cell_type": "code",
   "execution_count": 8,
   "id": "0354269c",
   "metadata": {
    "execution": {
     "iopub.execute_input": "2022-09-16T01:44:57.378416Z",
     "iopub.status.busy": "2022-09-16T01:44:57.377780Z",
     "iopub.status.idle": "2022-09-16T01:44:57.383877Z",
     "shell.execute_reply": "2022-09-16T01:44:57.382870Z"
    },
    "papermill": {
     "duration": 0.017767,
     "end_time": "2022-09-16T01:44:57.386019",
     "exception": false,
     "start_time": "2022-09-16T01:44:57.368252",
     "status": "completed"
    },
    "tags": []
   },
   "outputs": [
    {
     "data": {
      "text/plain": [
       "0.1727485630620034"
      ]
     },
     "execution_count": 8,
     "metadata": {},
     "output_type": "execute_result"
    }
   ],
   "source": [
    "fraud_percent=(fraud/(fraud+non_fraud))*100\n",
    "fraud_percent"
   ]
  },
  {
   "cell_type": "code",
   "execution_count": 9,
   "id": "597127b3",
   "metadata": {
    "execution": {
     "iopub.execute_input": "2022-09-16T01:44:57.405760Z",
     "iopub.status.busy": "2022-09-16T01:44:57.405163Z",
     "iopub.status.idle": "2022-09-16T01:44:58.452482Z",
     "shell.execute_reply": "2022-09-16T01:44:58.451119Z"
    },
    "papermill": {
     "duration": 1.060101,
     "end_time": "2022-09-16T01:44:58.455298",
     "exception": false,
     "start_time": "2022-09-16T01:44:57.395197",
     "status": "completed"
    },
    "tags": []
   },
   "outputs": [],
   "source": [
    "from sklearn.preprocessing import StandardScaler\n",
    "scaler=StandardScaler()"
   ]
  },
  {
   "cell_type": "code",
   "execution_count": 10,
   "id": "081c9c44",
   "metadata": {
    "execution": {
     "iopub.execute_input": "2022-09-16T01:44:58.474043Z",
     "iopub.status.busy": "2022-09-16T01:44:58.473566Z",
     "iopub.status.idle": "2022-09-16T01:44:58.487416Z",
     "shell.execute_reply": "2022-09-16T01:44:58.486180Z"
    },
    "papermill": {
     "duration": 0.026236,
     "end_time": "2022-09-16T01:44:58.490033",
     "exception": false,
     "start_time": "2022-09-16T01:44:58.463797",
     "status": "completed"
    },
    "tags": []
   },
   "outputs": [],
   "source": [
    "cc_df['Normalized_Amount']=scaler.fit_transform(cc_df['Amount'].values.reshape(-1,1))"
   ]
  },
  {
   "cell_type": "code",
   "execution_count": 11,
   "id": "52cdd577",
   "metadata": {
    "execution": {
     "iopub.execute_input": "2022-09-16T01:44:58.508477Z",
     "iopub.status.busy": "2022-09-16T01:44:58.508020Z",
     "iopub.status.idle": "2022-09-16T01:44:58.595349Z",
     "shell.execute_reply": "2022-09-16T01:44:58.594041Z"
    },
    "papermill": {
     "duration": 0.099423,
     "end_time": "2022-09-16T01:44:58.598029",
     "exception": false,
     "start_time": "2022-09-16T01:44:58.498606",
     "status": "completed"
    },
    "tags": []
   },
   "outputs": [],
   "source": [
    "cc_df.drop(['Time', 'Amount'], axis=1, inplace=True)"
   ]
  },
  {
   "cell_type": "code",
   "execution_count": 12,
   "id": "8d6910a5",
   "metadata": {
    "execution": {
     "iopub.execute_input": "2022-09-16T01:44:58.616245Z",
     "iopub.status.busy": "2022-09-16T01:44:58.615823Z",
     "iopub.status.idle": "2022-09-16T01:44:58.645002Z",
     "shell.execute_reply": "2022-09-16T01:44:58.643799Z"
    },
    "papermill": {
     "duration": 0.041088,
     "end_time": "2022-09-16T01:44:58.647434",
     "exception": false,
     "start_time": "2022-09-16T01:44:58.606346",
     "status": "completed"
    },
    "tags": []
   },
   "outputs": [],
   "source": [
    "#for all independent features\n",
    "x=cc_df.drop(['Class'], axis=1)"
   ]
  },
  {
   "cell_type": "code",
   "execution_count": 13,
   "id": "ab6a5a71",
   "metadata": {
    "execution": {
     "iopub.execute_input": "2022-09-16T01:44:58.665687Z",
     "iopub.status.busy": "2022-09-16T01:44:58.665243Z",
     "iopub.status.idle": "2022-09-16T01:44:58.670567Z",
     "shell.execute_reply": "2022-09-16T01:44:58.669420Z"
    },
    "papermill": {
     "duration": 0.01691,
     "end_time": "2022-09-16T01:44:58.672756",
     "exception": false,
     "start_time": "2022-09-16T01:44:58.655846",
     "status": "completed"
    },
    "tags": []
   },
   "outputs": [],
   "source": [
    "#for dependent feature\n",
    "y=cc_df['Class']"
   ]
  },
  {
   "cell_type": "code",
   "execution_count": 14,
   "id": "e528bfd3",
   "metadata": {
    "execution": {
     "iopub.execute_input": "2022-09-16T01:44:58.691245Z",
     "iopub.status.busy": "2022-09-16T01:44:58.690423Z",
     "iopub.status.idle": "2022-09-16T01:44:58.858224Z",
     "shell.execute_reply": "2022-09-16T01:44:58.856977Z"
    },
    "papermill": {
     "duration": 0.179948,
     "end_time": "2022-09-16T01:44:58.861028",
     "exception": false,
     "start_time": "2022-09-16T01:44:58.681080",
     "status": "completed"
    },
    "tags": []
   },
   "outputs": [],
   "source": [
    "from sklearn.model_selection import train_test_split\n",
    "\n",
    "train_x, test_x, train_y, test_y = train_test_split(x,y, test_size= 0.3, random_state= 1)"
   ]
  },
  {
   "cell_type": "code",
   "execution_count": 15,
   "id": "f51dbe3d",
   "metadata": {
    "execution": {
     "iopub.execute_input": "2022-09-16T01:44:58.879199Z",
     "iopub.status.busy": "2022-09-16T01:44:58.878808Z",
     "iopub.status.idle": "2022-09-16T01:44:58.885310Z",
     "shell.execute_reply": "2022-09-16T01:44:58.884151Z"
    },
    "papermill": {
     "duration": 0.0184,
     "end_time": "2022-09-16T01:44:58.887720",
     "exception": false,
     "start_time": "2022-09-16T01:44:58.869320",
     "status": "completed"
    },
    "tags": []
   },
   "outputs": [
    {
     "data": {
      "text/plain": [
       "(199364, 29)"
      ]
     },
     "execution_count": 15,
     "metadata": {},
     "output_type": "execute_result"
    }
   ],
   "source": [
    "train_x.shape"
   ]
  },
  {
   "cell_type": "code",
   "execution_count": 16,
   "id": "cf33d769",
   "metadata": {
    "execution": {
     "iopub.execute_input": "2022-09-16T01:44:58.907056Z",
     "iopub.status.busy": "2022-09-16T01:44:58.905736Z",
     "iopub.status.idle": "2022-09-16T01:44:58.913234Z",
     "shell.execute_reply": "2022-09-16T01:44:58.912333Z"
    },
    "papermill": {
     "duration": 0.019298,
     "end_time": "2022-09-16T01:44:58.915424",
     "exception": false,
     "start_time": "2022-09-16T01:44:58.896126",
     "status": "completed"
    },
    "tags": []
   },
   "outputs": [
    {
     "data": {
      "text/plain": [
       "(85443, 29)"
      ]
     },
     "execution_count": 16,
     "metadata": {},
     "output_type": "execute_result"
    }
   ],
   "source": [
    "test_x.shape"
   ]
  },
  {
   "cell_type": "code",
   "execution_count": 17,
   "id": "48c5272e",
   "metadata": {
    "execution": {
     "iopub.execute_input": "2022-09-16T01:44:58.934957Z",
     "iopub.status.busy": "2022-09-16T01:44:58.934082Z",
     "iopub.status.idle": "2022-09-16T01:44:59.154137Z",
     "shell.execute_reply": "2022-09-16T01:44:59.152884Z"
    },
    "papermill": {
     "duration": 0.233045,
     "end_time": "2022-09-16T01:44:59.157100",
     "exception": false,
     "start_time": "2022-09-16T01:44:58.924055",
     "status": "completed"
    },
    "tags": []
   },
   "outputs": [],
   "source": [
    "#create the model\n",
    "from sklearn.ensemble import RandomForestClassifier\n",
    "\n",
    "rf1=RandomForestClassifier(n_estimators= 100)"
   ]
  },
  {
   "cell_type": "code",
   "execution_count": 18,
   "id": "384e47d5",
   "metadata": {
    "execution": {
     "iopub.execute_input": "2022-09-16T01:44:59.176344Z",
     "iopub.status.busy": "2022-09-16T01:44:59.175178Z",
     "iopub.status.idle": "2022-09-16T01:48:23.485984Z",
     "shell.execute_reply": "2022-09-16T01:48:23.484701Z"
    },
    "papermill": {
     "duration": 204.329934,
     "end_time": "2022-09-16T01:48:23.495595",
     "exception": false,
     "start_time": "2022-09-16T01:44:59.165661",
     "status": "completed"
    },
    "tags": []
   },
   "outputs": [
    {
     "data": {
      "text/plain": [
       "RandomForestClassifier()"
      ]
     },
     "execution_count": 18,
     "metadata": {},
     "output_type": "execute_result"
    }
   ],
   "source": [
    "rf1.fit(train_x,train_y)"
   ]
  },
  {
   "cell_type": "code",
   "execution_count": 19,
   "id": "9ed1c1f7",
   "metadata": {
    "execution": {
     "iopub.execute_input": "2022-09-16T01:48:23.514977Z",
     "iopub.status.busy": "2022-09-16T01:48:23.513771Z",
     "iopub.status.idle": "2022-09-16T01:48:24.489720Z",
     "shell.execute_reply": "2022-09-16T01:48:24.488124Z"
    },
    "papermill": {
     "duration": 0.988642,
     "end_time": "2022-09-16T01:48:24.492552",
     "exception": false,
     "start_time": "2022-09-16T01:48:23.503910",
     "status": "completed"
    },
    "tags": []
   },
   "outputs": [],
   "source": [
    "prediction_rf=rf1.predict(test_x)"
   ]
  },
  {
   "cell_type": "code",
   "execution_count": 20,
   "id": "33b16577",
   "metadata": {
    "execution": {
     "iopub.execute_input": "2022-09-16T01:48:24.511535Z",
     "iopub.status.busy": "2022-09-16T01:48:24.510903Z",
     "iopub.status.idle": "2022-09-16T01:48:25.493353Z",
     "shell.execute_reply": "2022-09-16T01:48:25.492098Z"
    },
    "papermill": {
     "duration": 0.995439,
     "end_time": "2022-09-16T01:48:25.496583",
     "exception": false,
     "start_time": "2022-09-16T01:48:24.501144",
     "status": "completed"
    },
    "tags": []
   },
   "outputs": [],
   "source": [
    "rf_score=rf1.score(test_x,test_y)*100"
   ]
  },
  {
   "cell_type": "code",
   "execution_count": 21,
   "id": "642a2961",
   "metadata": {
    "execution": {
     "iopub.execute_input": "2022-09-16T01:48:25.515237Z",
     "iopub.status.busy": "2022-09-16T01:48:25.514818Z",
     "iopub.status.idle": "2022-09-16T01:48:25.521693Z",
     "shell.execute_reply": "2022-09-16T01:48:25.520574Z"
    },
    "papermill": {
     "duration": 0.019015,
     "end_time": "2022-09-16T01:48:25.524124",
     "exception": false,
     "start_time": "2022-09-16T01:48:25.505109",
     "status": "completed"
    },
    "tags": []
   },
   "outputs": [
    {
     "data": {
      "text/plain": [
       "99.94967405170698"
      ]
     },
     "execution_count": 21,
     "metadata": {},
     "output_type": "execute_result"
    }
   ],
   "source": [
    "rf_score"
   ]
  },
  {
   "cell_type": "code",
   "execution_count": 22,
   "id": "d4aca33c",
   "metadata": {
    "execution": {
     "iopub.execute_input": "2022-09-16T01:48:25.543709Z",
     "iopub.status.busy": "2022-09-16T01:48:25.543065Z",
     "iopub.status.idle": "2022-09-16T01:48:25.547484Z",
     "shell.execute_reply": "2022-09-16T01:48:25.546614Z"
    },
    "papermill": {
     "duration": 0.016729,
     "end_time": "2022-09-16T01:48:25.549585",
     "exception": false,
     "start_time": "2022-09-16T01:48:25.532856",
     "status": "completed"
    },
    "tags": []
   },
   "outputs": [],
   "source": [
    "# Importing class and libraries\n",
    "\n",
    "from sklearn.svm import SVC\n",
    "model = SVC()"
   ]
  },
  {
   "cell_type": "code",
   "execution_count": 23,
   "id": "b1324ec1",
   "metadata": {
    "execution": {
     "iopub.execute_input": "2022-09-16T01:48:25.568706Z",
     "iopub.status.busy": "2022-09-16T01:48:25.567962Z",
     "iopub.status.idle": "2022-09-16T01:52:30.136290Z",
     "shell.execute_reply": "2022-09-16T01:52:30.134923Z"
    },
    "papermill": {
     "duration": 244.589163,
     "end_time": "2022-09-16T01:52:30.147300",
     "exception": false,
     "start_time": "2022-09-16T01:48:25.558137",
     "status": "completed"
    },
    "tags": []
   },
   "outputs": [
    {
     "data": {
      "text/plain": [
       "SVC()"
      ]
     },
     "execution_count": 23,
     "metadata": {},
     "output_type": "execute_result"
    }
   ],
   "source": [
    "# Training the Model\n",
    "\n",
    "model.fit(train_x,train_y)"
   ]
  },
  {
   "cell_type": "code",
   "execution_count": 24,
   "id": "d8144784",
   "metadata": {
    "execution": {
     "iopub.execute_input": "2022-09-16T01:52:30.166637Z",
     "iopub.status.busy": "2022-09-16T01:52:30.166261Z",
     "iopub.status.idle": "2022-09-16T01:53:15.842661Z",
     "shell.execute_reply": "2022-09-16T01:53:15.841489Z"
    },
    "papermill": {
     "duration": 45.696769,
     "end_time": "2022-09-16T01:53:15.852694",
     "exception": false,
     "start_time": "2022-09-16T01:52:30.155925",
     "status": "completed"
    },
    "tags": []
   },
   "outputs": [
    {
     "data": {
      "text/plain": [
       "0.9996589153508156"
      ]
     },
     "execution_count": 24,
     "metadata": {},
     "output_type": "execute_result"
    }
   ],
   "source": [
    "# Accuracy of the model in training\n",
    "\n",
    "model.score(train_x,train_y)"
   ]
  },
  {
   "cell_type": "code",
   "execution_count": 25,
   "id": "8e14eefb",
   "metadata": {
    "execution": {
     "iopub.execute_input": "2022-09-16T01:53:15.871944Z",
     "iopub.status.busy": "2022-09-16T01:53:15.871275Z",
     "iopub.status.idle": "2022-09-16T01:54:01.648268Z",
     "shell.execute_reply": "2022-09-16T01:54:01.647005Z"
    },
    "papermill": {
     "duration": 45.798104,
     "end_time": "2022-09-16T01:54:01.659375",
     "exception": false,
     "start_time": "2022-09-16T01:53:15.861271",
     "status": "completed"
    },
    "tags": []
   },
   "outputs": [
    {
     "data": {
      "text/plain": [
       "0.9996589153508156"
      ]
     },
     "execution_count": 25,
     "metadata": {},
     "output_type": "execute_result"
    }
   ],
   "source": [
    "# Accuracy of the model in Testing\n",
    "\n",
    "model.score(train_x,train_y)"
   ]
  },
  {
   "cell_type": "code",
   "execution_count": 26,
   "id": "8565b5e4",
   "metadata": {
    "execution": {
     "iopub.execute_input": "2022-09-16T01:54:01.678921Z",
     "iopub.status.busy": "2022-09-16T01:54:01.678255Z",
     "iopub.status.idle": "2022-09-16T01:54:01.682553Z",
     "shell.execute_reply": "2022-09-16T01:54:01.681801Z"
    },
    "papermill": {
     "duration": 0.016192,
     "end_time": "2022-09-16T01:54:01.684469",
     "exception": false,
     "start_time": "2022-09-16T01:54:01.668277",
     "status": "completed"
    },
    "tags": []
   },
   "outputs": [],
   "source": [
    "# Importing Libraries and Classes\n",
    "\n",
    "from sklearn import metrics"
   ]
  },
  {
   "cell_type": "code",
   "execution_count": 27,
   "id": "0187e3c3",
   "metadata": {
    "execution": {
     "iopub.execute_input": "2022-09-16T01:54:01.703653Z",
     "iopub.status.busy": "2022-09-16T01:54:01.703257Z",
     "iopub.status.idle": "2022-09-16T01:54:20.571126Z",
     "shell.execute_reply": "2022-09-16T01:54:20.570115Z"
    },
    "papermill": {
     "duration": 18.88031,
     "end_time": "2022-09-16T01:54:20.573560",
     "exception": false,
     "start_time": "2022-09-16T01:54:01.693250",
     "status": "completed"
    },
    "tags": []
   },
   "outputs": [],
   "source": [
    "# Y contains all the outputs and X contains all the inputs. We will test on the machine if it gives to expected Output for the \n",
    "# corresponding Inputs.\n",
    "\n",
    "expected = test_y\n",
    "predicted = model.predict(test_x)"
   ]
  },
  {
   "cell_type": "code",
   "execution_count": 28,
   "id": "735fca9a",
   "metadata": {
    "execution": {
     "iopub.execute_input": "2022-09-16T01:54:20.593543Z",
     "iopub.status.busy": "2022-09-16T01:54:20.592941Z",
     "iopub.status.idle": "2022-09-16T01:54:20.723602Z",
     "shell.execute_reply": "2022-09-16T01:54:20.722414Z"
    },
    "papermill": {
     "duration": 0.144802,
     "end_time": "2022-09-16T01:54:20.727370",
     "exception": false,
     "start_time": "2022-09-16T01:54:20.582568",
     "status": "completed"
    },
    "tags": []
   },
   "outputs": [
    {
     "name": "stdout",
     "output_type": "stream",
     "text": [
      "              precision    recall  f1-score   support\n",
      "\n",
      "           0       1.00      1.00      1.00     85308\n",
      "           1       0.96      0.65      0.78       135\n",
      "\n",
      "    accuracy                           1.00     85443\n",
      "   macro avg       0.98      0.83      0.89     85443\n",
      "weighted avg       1.00      1.00      1.00     85443\n",
      "\n"
     ]
    }
   ],
   "source": [
    "# Obtaining Report\n",
    "\n",
    "print(metrics.classification_report(expected, predicted))"
   ]
  },
  {
   "cell_type": "code",
   "execution_count": 29,
   "id": "0da62dac",
   "metadata": {
    "execution": {
     "iopub.execute_input": "2022-09-16T01:54:20.748158Z",
     "iopub.status.busy": "2022-09-16T01:54:20.747489Z",
     "iopub.status.idle": "2022-09-16T01:54:20.768897Z",
     "shell.execute_reply": "2022-09-16T01:54:20.767938Z"
    },
    "papermill": {
     "duration": 0.034738,
     "end_time": "2022-09-16T01:54:20.771816",
     "exception": false,
     "start_time": "2022-09-16T01:54:20.737078",
     "status": "completed"
    },
    "tags": []
   },
   "outputs": [
    {
     "name": "stdout",
     "output_type": "stream",
     "text": [
      "[[85304     4]\n",
      " [   47    88]]\n"
     ]
    }
   ],
   "source": [
    "# Output in the form of count\n",
    "\n",
    "print(metrics.confusion_matrix(expected, predicted))"
   ]
  },
  {
   "cell_type": "code",
   "execution_count": null,
   "id": "cb32d9c4",
   "metadata": {
    "papermill": {
     "duration": 0.008514,
     "end_time": "2022-09-16T01:54:20.789491",
     "exception": false,
     "start_time": "2022-09-16T01:54:20.780977",
     "status": "completed"
    },
    "tags": []
   },
   "outputs": [],
   "source": []
  }
 ],
 "metadata": {
  "kernelspec": {
   "display_name": "Python 3",
   "language": "python",
   "name": "python3"
  },
  "language_info": {
   "codemirror_mode": {
    "name": "ipython",
    "version": 3
   },
   "file_extension": ".py",
   "mimetype": "text/x-python",
   "name": "python",
   "nbconvert_exporter": "python",
   "pygments_lexer": "ipython3",
   "version": "3.7.12"
  },
  "papermill": {
   "default_parameters": {},
   "duration": 579.267039,
   "end_time": "2022-09-16T01:54:21.520746",
   "environment_variables": {},
   "exception": null,
   "input_path": "__notebook__.ipynb",
   "output_path": "__notebook__.ipynb",
   "parameters": {},
   "start_time": "2022-09-16T01:44:42.253707",
   "version": "2.3.4"
  }
 },
 "nbformat": 4,
 "nbformat_minor": 5
}
